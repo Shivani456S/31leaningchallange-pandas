{
 "cells": [
  {
   "cell_type": "markdown",
   "metadata": {},
   "source": [
    "##NumPy stands for Numerical python , it is fundamental package for scientific computing in python.\n",
    "we have try compare and calulate  and using different different methods array in numpy"
   ]
  },
  {
   "cell_type": "code",
   "execution_count": 2,
   "metadata": {},
   "outputs": [
    {
     "data": {
      "text/plain": [
       "'2.1.2'"
      ]
     },
     "execution_count": 2,
     "metadata": {},
     "output_type": "execute_result"
    }
   ],
   "source": [
    "import numpy as np\n",
    "np.__version__"
   ]
  },
  {
   "cell_type": "code",
   "execution_count": 9,
   "metadata": {},
   "outputs": [
    {
     "name": "stdout",
     "output_type": "stream",
     "text": [
      "[19, 24, 15, 12, 16]\n",
      "[19 24 15 12 16]\n",
      "int64\n",
      "<class 'list'>\n",
      "<class 'numpy.ndarray'>\n"
     ]
    }
   ],
   "source": [
    "list1=[19,24,15,12,16] #space seprator\n",
    "data =np.array([19,24,15,12,16])\n",
    "print(list1)\n",
    "print(data)\n",
    "print(data.dtype)\n",
    "print(type(list1))\n",
    "print(type(data))"
   ]
  },
  {
   "cell_type": "code",
   "execution_count": null,
   "metadata": {},
   "outputs": [
    {
     "name": "stdout",
     "output_type": "stream",
     "text": [
      "[19  3 15 12 16]\n",
      "[1.2 3.  4.  5.  6. ]\n",
      "float64\n",
      "\n",
      "['1' '2' '3' '4']\n",
      "<U1\n",
      "\n",
      "['1' '2' 'shivi' '4']\n",
      "<U21\n"
     ]
    }
   ],
   "source": [
    "#updating the element in numpy array\n",
    "data[1] = 3.14\n",
    "print(data)\n",
    "\n",
    "# creating a numpy array with the float datatype\n",
    "data2=np.array([1.2,3,4,5,6])\n",
    "print(data2)\n",
    "print(data2.dtype)\n",
    "\n",
    "#creating a numpy array with string datatypes  with dtype perameter\n",
    "data3=np.array([1,2,3,4],dtype=str)\n",
    "print(f\"\\n{data3}\")\n",
    "print(data3.dtype)\n",
    "\n",
    "##creating a numpy array with string datatypes  with auto detection\n",
    "data4=np.array([1,2,'shivi',4])\n",
    "print(f\"\\n{data4}\")\n",
    "print(data4.dtype) #<u21 unicode shivi store in backened space is 21 bytes\n"
   ]
  },
  {
   "cell_type": "code",
   "execution_count": null,
   "metadata": {},
   "outputs": [
    {
     "name": "stdout",
     "output_type": "stream",
     "text": [
      "[0 1 2 3 4 5 6 7 8 9]\n",
      "[0 1 2 3]\n",
      "[3 4 5 6 7 8 9]\n",
      "[0 1 2]\n",
      "[3 5]\n",
      "[9 7 5 3 1]\n",
      "[9 6 3 0]\n"
     ]
    }
   ],
   "source": [
    "#indexing slicing with numpy\n",
    "data=np.array(range(10))\n",
    "print(data)\n",
    "print(data[0:4]) #slicing \n",
    "print(data[3:])\n",
    "print(data[:3])\n",
    "print(data[3:6:2])#ye 3 se suru krenge print\n",
    "print(data[::-2])\n",
    "print(data[::-3])"
   ]
  },
  {
   "cell_type": "code",
   "execution_count": null,
   "metadata": {},
   "outputs": [
    {
     "name": "stdout",
     "output_type": "stream",
     "text": [
      "list x: [0, 1, 2, 3, 4]\n",
      "list y: [5, 6, 7, 8, 9]\n",
      " x + y: [0, 1, 2, 3, 4, 5, 6, 7, 8, 9]\n",
      "\n",
      "[0, 1, 2, 3, 4, 0, 1, 2, 3, 4, 0, 1, 2, 3, 4]\n"
     ]
    }
   ],
   "source": [
    "#mathematical operation in numpy array\n",
    "x=list(range(5))\n",
    "y=list(range(5,10))\n",
    "print(f\"list x: {x}\")\n",
    "print(f\"list y: {y}\")\n",
    "print(f\" x + y: {x+y}\\n\")\n",
    "print(3*x)\n",
    "\n",
    "\n"
   ]
  },
  {
   "cell_type": "code",
   "execution_count": 34,
   "metadata": {},
   "outputs": [
    {
     "name": "stdout",
     "output_type": "stream",
     "text": [
      "list xn: [0 1 2 3 4]\n",
      "list yn: [5 6 7 8 9]\n",
      " xn + yn: [ 5  7  9 11 13]\n",
      "\n",
      "[ 0  3  6  9 12]\n"
     ]
    }
   ],
   "source": [
    "xn=np.array(range(5))\n",
    "yn=np.array(range(5,10))\n",
    "print(f\"list xn: {xn}\")\n",
    "print(f\"list yn: {yn}\")\n",
    "print(f\" xn + yn: {xn+yn}\\n\")\n",
    "print(3*xn)"
   ]
  },
  {
   "cell_type": "code",
   "execution_count": 42,
   "metadata": {},
   "outputs": [
    {
     "name": "stdout",
     "output_type": "stream",
     "text": [
      "[0 1 2 3 4 5 6 7 8 9] \n",
      "\n",
      "[[0 1 2 3 4]\n",
      " [5 6 7 8 9]] \n",
      "\n"
     ]
    }
   ],
   "source": [
    "print(np.hstack([xn,yn]), \"\\n\")\n",
    "print(np.vstack([xn,yn]), \"\\n\")"
   ]
  },
  {
   "cell_type": "code",
   "execution_count": null,
   "metadata": {},
   "outputs": [
    {
     "name": "stdout",
     "output_type": "stream",
     "text": [
      "[[1, 2, 3], [4, 5, 6]] \n",
      "\n",
      "[[1 2 3]\n",
      " [4 5 6]]\n",
      "Dimension: 2\n",
      "Shape: (2, 3)\n",
      "Size: 6\n"
     ]
    }
   ],
   "source": [
    "##properties of numpy error\n",
    "\n",
    "list3=[[1,2,3],[4,5,6]]\n",
    "print(list3,\"\\n\")\n",
    "\n",
    "data=np.array(list3)\n",
    "print(data)\n",
    "print(f\"Dimension: {data.ndim}\")\n",
    "\n",
    "print(f\"Shape: {data.shape}\")\n",
    "print(f\"Size: {data.size}\")"
   ]
  },
  {
   "cell_type": "code",
   "execution_count": 56,
   "metadata": {},
   "outputs": [
    {
     "name": "stdout",
     "output_type": "stream",
     "text": [
      "arr_1d: [12 20 30 40]\n",
      "arr_2d: [[ 1  2  3  4]\n",
      " [ 5  6  7  8]\n",
      " [12  2  3  4]]\n",
      "\n",
      "Result of broadcasting: [[13 22 33 44]\n",
      " [17 26 37 48]\n",
      " [24 22 33 44]]\n"
     ]
    }
   ],
   "source": [
    "arr_1d=np.array([12,20,30,40])\n",
    "arr_2d=np.array([[1,2,3,4],[5,6,7,8],[12,2,3,4]])\n",
    "print(f\"arr_1d: {arr_1d}\")\n",
    "print(f\"arr_2d: {arr_2d}\")\n",
    "result = arr_2d + arr_1d\n",
    "print(f\"\\nResult of broadcasting: {result}\")"
   ]
  },
  {
   "cell_type": "code",
   "execution_count": 59,
   "metadata": {},
   "outputs": [
    {
     "name": "stdout",
     "output_type": "stream",
     "text": [
      "[[1 2 3]\n",
      " [3 4 5]\n",
      " [5 6 7]]\n"
     ]
    },
    {
     "data": {
      "text/plain": [
       "9"
      ]
     },
     "execution_count": 59,
     "metadata": {},
     "output_type": "execute_result"
    }
   ],
   "source": [
    "x=np.array([[1,2,3],[3,4,5],[5,6,7]])\n",
    "print(x)\n",
    "x.size"
   ]
  },
  {
   "cell_type": "code",
   "execution_count": 61,
   "metadata": {},
   "outputs": [
    {
     "name": "stdout",
     "output_type": "stream",
     "text": [
      "[[3 4 5]\n",
      " [5 6 7]]\n",
      "\n"
     ]
    }
   ],
   "source": [
    "print(f\"{x[1:,:]}\\n\")"
   ]
  },
  {
   "cell_type": "code",
   "execution_count": 69,
   "metadata": {},
   "outputs": [
    {
     "name": "stdout",
     "output_type": "stream",
     "text": [
      "[0 1 2 3 4 5 6 7 8 9]\n",
      "mask: [False False False False False False  True  True  True  True]\n",
      "  result mask in arr: [6 7 8 9]\n"
     ]
    }
   ],
   "source": [
    "arr=np.arange(10)\n",
    "print(arr)\n",
    "mask = arr > 5\n",
    "print(f\"mask: {mask}\\n  result mask in arr: {arr[mask]}\")"
   ]
  },
  {
   "cell_type": "code",
   "execution_count": null,
   "metadata": {},
   "outputs": [],
   "source": [
    "#functions : and aur all\n",
    "#reshaping numpy array"
   ]
  }
 ],
 "metadata": {
  "kernelspec": {
   "display_name": "Python 3",
   "language": "python",
   "name": "python3"
  },
  "language_info": {
   "codemirror_mode": {
    "name": "ipython",
    "version": 3
   },
   "file_extension": ".py",
   "mimetype": "text/x-python",
   "name": "python",
   "nbconvert_exporter": "python",
   "pygments_lexer": "ipython3",
   "version": "3.12.5"
  }
 },
 "nbformat": 4,
 "nbformat_minor": 2
}
