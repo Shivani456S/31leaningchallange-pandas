{
 "cells": [
  {
   "cell_type": "markdown",
   "metadata": {},
   "source": [
    "##DAY 2 ASSIGNMENT OF PYTHON\n",
    "#QUESTION 1: CREATE A CLASS \n",
    "Create a Class a Car with attributes make , model,year."
   ]
  },
  {
   "cell_type": "code",
   "execution_count": null,
   "metadata": {},
   "outputs": [],
   "source": [
    "class Car: #class\n",
    "    def __init__(self,make,model,year):\n",
    "        self.make = make\n",
    "        self.model = model\n",
    "        self.year = year\n",
    "    def Car(self):\n",
    "        print(f\"Car{self.make} {self.year} {self.model}\")\n",
    "        \n",
    "    \n",
    "    "
   ]
  },
  {
   "cell_type": "code",
   "execution_count": 10,
   "metadata": {},
   "outputs": [
    {
     "data": {
      "text/plain": [
       "'mercedes'"
      ]
     },
     "execution_count": 10,
     "metadata": {},
     "output_type": "execute_result"
    }
   ],
   "source": [
    "my_car = Car(\"thar\", \"mercedes\", 2024)\n",
    "my_car.model"
   ]
  },
  {
   "cell_type": "code",
   "execution_count": 9,
   "metadata": {},
   "outputs": [
    {
     "data": {
      "text/plain": [
       "2024"
      ]
     },
     "execution_count": 9,
     "metadata": {},
     "output_type": "execute_result"
    }
   ],
   "source": [
    "my_car.year"
   ]
  },
  {
   "cell_type": "markdown",
   "metadata": {},
   "source": [
    "##QUESTION 2:\n",
    ": CREATE A OBJECT\n",
    "#Instantiate an object of the car ,class with make , toyota , model , camry and 2020"
   ]
  },
  {
   "cell_type": "code",
   "execution_count": 11,
   "metadata": {},
   "outputs": [],
   "source": [
    "class Car:\n",
    "    def __init__(self,make,model,year):\n",
    "        self.make = make\n",
    "        self.model = model\n",
    "        self.year = year\n",
    "    def Car(self):\n",
    "        print(f\"{self.make} {self.model} {self.year}\")"
   ]
  },
  {
   "cell_type": "code",
   "execution_count": null,
   "metadata": {},
   "outputs": [
    {
     "name": "stdout",
     "output_type": "stream",
     "text": [
      "2020\n"
     ]
    }
   ],
   "source": [
    "Car_info = Car(\"Toyota\" , \"camry\" , 2020) #object\n",
    "print(Car_info.year)"
   ]
  },
  {
   "cell_type": "code",
   "execution_count": null,
   "metadata": {},
   "outputs": [
    {
     "name": "stdout",
     "output_type": "stream",
     "text": [
      "Toyota\n"
     ]
    }
   ],
   "source": [
    "print(Car_info.make)#object"
   ]
  },
  {
   "cell_type": "code",
   "execution_count": null,
   "metadata": {},
   "outputs": [
    {
     "name": "stdout",
     "output_type": "stream",
     "text": [
      "camry\n"
     ]
    }
   ],
   "source": [
    "print(Car_info.model)#object"
   ]
  },
  {
   "cell_type": "markdown",
   "metadata": {},
   "source": [
    "##QUESTION 3:\n",
    "#Access attributes objects \n",
    "given an object my_car of the car , write code to print the make and model of the car,\n"
   ]
  },
  {
   "cell_type": "code",
   "execution_count": null,
   "metadata": {},
   "outputs": [
    {
     "name": "stdout",
     "output_type": "stream",
     "text": [
      "make: camry\n",
      "model: 2024\n"
     ]
    }
   ],
   "source": [
    "class Car:\n",
    "    def __init__(self,make,model,year):\n",
    "        self.make = make \n",
    "        self.model = model\n",
    "        self.year = year\n",
    "    my_car = Car(\"toyota\",\"camry\",2024) #instantiate of the object\n",
    "    print(f\"make: {my_car.model}\")\n",
    "    print(f\"model: {my_car.year}\")"
   ]
  },
  {
   "cell_type": "markdown",
   "metadata": {},
   "source": [
    "##QUESTION 4:\n",
    "Add a method to a class\n",
    "add a method display_info to the car , class that print the out's of cars make , model,and year"
   ]
  },
  {
   "cell_type": "code",
   "execution_count": 40,
   "metadata": {},
   "outputs": [],
   "source": [
    "class Car:\n",
    "    def __init__(self,make,model,year):\n",
    "        self.make = make\n",
    "        self.model = model\n",
    "        self.year = year\n",
    "    def display_info(self):\n",
    "        print(f\"Car : [{self.make}] ({self.model}) {{self.year}}\")\n",
    "    \n",
    "    "
   ]
  },
  {
   "cell_type": "code",
   "execution_count": 41,
   "metadata": {},
   "outputs": [
    {
     "name": "stdout",
     "output_type": "stream",
     "text": [
      "Car : [toyota] (camry) {self.year}\n"
     ]
    }
   ],
   "source": [
    "my_car = Car (\"toyota\",\"camry\",2024)   \n",
    "my_car.display_info()"
   ]
  },
  {
   "cell_type": "markdown",
   "metadata": {},
   "source": [
    "##QUESTION 5: \n",
    "#Modified the object attributes\n",
    "given an object my_car of the car class, change the year of 2021 and print updated year."
   ]
  },
  {
   "cell_type": "code",
   "execution_count": 42,
   "metadata": {},
   "outputs": [],
   "source": [
    "class Car: #class\n",
    "    def __init__(self,make,model,year):\n",
    "        self.make = make\n",
    "        self.model = model\n",
    "        self.year = year\n",
    "    def Car(self):\n",
    "        print(f\"Car{self.make} {self.year} {self.model}\")\n"
   ]
  },
  {
   "cell_type": "code",
   "execution_count": 45,
   "metadata": {},
   "outputs": [
    {
     "name": "stdout",
     "output_type": "stream",
     "text": [
      "updated: 2022\n"
     ]
    }
   ],
   "source": [
    "my_car = Car (\"toyota\",\"camry\",2021)\n",
    "my_car.year = 2022\n",
    "print(f\"updated: {my_car.year}\")"
   ]
  },
  {
   "cell_type": "markdown",
   "metadata": {},
   "source": [
    "##QUESTION 6: \n",
    "#Class with constructor \n",
    "create a class book with a constructor , that inistializes the attributes title , author , page"
   ]
  },
  {
   "cell_type": "code",
   "execution_count": 46,
   "metadata": {},
   "outputs": [],
   "source": [
    "class Book:\n",
    "    def __init__(self,title,author,page):\n",
    "        self.title = title\n",
    "        self.author = author\n",
    "        self.page = page\n",
    "    def Book(self):\n",
    "        print(f\"Book: {self.title} {self.author} {self.page}\")\n",
    "        "
   ]
  },
  {
   "cell_type": "code",
   "execution_count": 49,
   "metadata": {},
   "outputs": [
    {
     "name": "stdout",
     "output_type": "stream",
     "text": [
      "harry poter\n",
      "281\n",
      "Cartoon\n"
     ]
    }
   ],
   "source": [
    "my_book = Book(\"Cartoon\",\"harry poter\",281)\n",
    "print(my_book.author)\n",
    "print(my_book.page)\n",
    "print(my_book.title)"
   ]
  },
  {
   "cell_type": "markdown",
   "metadata": {},
   "source": [
    "##QUESTION 7:\n",
    "#Instance method\n",
    "add a method summary to the book , class that print a summary in the format , \"Title by author X pages."
   ]
  },
  {
   "cell_type": "code",
   "execution_count": 50,
   "metadata": {},
   "outputs": [],
   "source": [
    "class Book:\n",
    "    def __init__(self,title,author,page):\n",
    "        self.title = title\n",
    "        self.author = author\n",
    "        self.page = page\n",
    "    def summary(self):\n",
    "        print(f\"Book: {self.title} {self.author} {self.page}\")"
   ]
  },
  {
   "cell_type": "code",
   "execution_count": 52,
   "metadata": {},
   "outputs": [
    {
     "name": "stdout",
     "output_type": "stream",
     "text": [
      "Book: Cartoon harry poter 281\n",
      "None\n"
     ]
    }
   ],
   "source": [
    "my_book = Book(\"Cartoon\",\"harry poter\",281)\n",
    "print(my_book.summary())"
   ]
  },
  {
   "cell_type": "markdown",
   "metadata": {},
   "source": [
    "##QUESTION 8 \n",
    "#create a multiple objects\n",
    "instantiate two object of the book , class with different attributes and print their summaries"
   ]
  },
  {
   "cell_type": "code",
   "execution_count": 55,
   "metadata": {},
   "outputs": [],
   "source": [
    "class Book:\n",
    "    def __init__(self,title,author,page):\n",
    "        self.title = title\n",
    "        self.author = author\n",
    "        self.page = page\n",
    "    def summary(self):\n",
    "        print(f\"Book: {self.title} by {self.author} {self.page} page.\")"
   ]
  },
  {
   "cell_type": "code",
   "execution_count": 56,
   "metadata": {},
   "outputs": [
    {
     "name": "stdout",
     "output_type": "stream",
     "text": [
      "Book: harry porter by cartoon 281 page.\n",
      "None\n",
      "Book: maths by rakesh yadav 400 page.\n",
      "None\n"
     ]
    }
   ],
   "source": [
    "book_1 = Book(\"harry porter\" ,\"cartoon\" , 281)\n",
    "book_2 = Book(\"maths\",\"rakesh yadav\",400)\n",
    "print(book_1.summary())\n",
    "print(book_2.summary())"
   ]
  },
  {
   "cell_type": "markdown",
   "metadata": {},
   "source": [
    "##QUESTION 9:\n",
    "#object comparison\n",
    "create a class student with attributes name and grade. add a method compare_grade that takes another student object as a parameter and print whose grade is higher."
   ]
  },
  {
   "cell_type": "code",
   "execution_count": null,
   "metadata": {},
   "outputs": [],
   "source": []
  }
 ],
 "metadata": {
  "kernelspec": {
   "display_name": "Python 3",
   "language": "python",
   "name": "python3"
  },
  "language_info": {
   "codemirror_mode": {
    "name": "ipython",
    "version": 3
   },
   "file_extension": ".py",
   "mimetype": "text/x-python",
   "name": "python",
   "nbconvert_exporter": "python",
   "pygments_lexer": "ipython3",
   "version": "3.12.5"
  }
 },
 "nbformat": 4,
 "nbformat_minor": 2
}
