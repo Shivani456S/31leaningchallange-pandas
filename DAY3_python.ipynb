{
 "cells": [
  {
   "cell_type": "markdown",
   "metadata": {},
   "source": [
    "                                                    ##EASY"
   ]
  },
  {
   "cell_type": "markdown",
   "metadata": {},
   "source": [
    "\n",
    "##Creating a DataFrame:\n",
    "\n",
    "#Create a pandas DataFrame with the following data:\n",
    "\n",
    "'Product': ['A', 'B', 'C', 'D']\n",
    "'Price': [100, 150, 200, 130]\n",
    "'Quantity': [10, 15, 8, 12] Now display the DataFrame"
   ]
  },
  {
   "cell_type": "code",
   "execution_count": 2,
   "metadata": {},
   "outputs": [
    {
     "name": "stdout",
     "output_type": "stream",
     "text": [
      "  Product  Price  Quantity\n",
      "0       A    100        10\n",
      "1       B    150        15\n",
      "2       C    200         8\n",
      "3       D    130        12\n"
     ]
    }
   ],
   "source": [
    "import pandas as pa\n",
    "data = {\n",
    "    'Product': ['A' , 'B' , 'C' , 'D'] , \n",
    "    'Price': [100, 150, 200, 130],\n",
    "    'Quantity':[10, 15, 8, 12]\n",
    "}\n",
    "df = pa.DataFrame(data)\n",
    "print(df)\n",
    "\n",
    "    "
   ]
  },
  {
   "cell_type": "markdown",
   "metadata": {},
   "source": [
    "##Basic Data Inspection:\n",
    "\n",
    "#Using the DataFrame from Question 1, perform the following tasks:\n",
    "\n",
    "Show the first two rows.\n",
    "Display the column names and data types.\n",
    "Check for missing values in the DataFrame."
   ]
  },
  {
   "cell_type": "code",
   "execution_count": 3,
   "metadata": {},
   "outputs": [
    {
     "name": "stdout",
     "output_type": "stream",
     "text": [
      "  Product  Price  Quantity\n",
      "0       A    100        10\n",
      "1       B    150        15\n",
      "2       C    200         8\n",
      "3       D    130        12\n"
     ]
    }
   ],
   "source": [
    "import pandas as pa\n",
    "data = {\n",
    "    'Product': ['A' , 'B' , 'C' , 'D'] , \n",
    "    'Price': [100, 150, 200, 130],\n",
    "    'Quantity':[10, 15, 8, 12]\n",
    "}\n",
    "df = pa.DataFrame(data)\n",
    "print(df)"
   ]
  },
  {
   "cell_type": "code",
   "execution_count": 5,
   "metadata": {},
   "outputs": [
    {
     "name": "stdout",
     "output_type": "stream",
     "text": [
      "  Product  Price  Quantity\n",
      "0       A    100        10\n",
      "1       B    150        15\n"
     ]
    }
   ],
   "source": [
    "#a)show 2 rows \n",
    "print(df.head((2)) )"
   ]
  },
  {
   "cell_type": "code",
   "execution_count": 7,
   "metadata": {},
   "outputs": [
    {
     "name": "stdout",
     "output_type": "stream",
     "text": [
      "Product     object\n",
      "Price        int64\n",
      "Quantity     int64\n",
      "dtype: object\n"
     ]
    }
   ],
   "source": [
    "#show the datatypes and column\n",
    "print((df.dtypes))"
   ]
  },
  {
   "cell_type": "code",
   "execution_count": 8,
   "metadata": {},
   "outputs": [
    {
     "name": "stdout",
     "output_type": "stream",
     "text": [
      "Product     0\n",
      "Price       0\n",
      "Quantity    0\n",
      "dtype: int64\n"
     ]
    }
   ],
   "source": [
    "#check the missing data\n",
    "print(df.isnull().sum())"
   ]
  },
  {
   "cell_type": "markdown",
   "metadata": {},
   "source": [
    "##Filtering Data:\n",
    "\n",
    "#Using the DataFrame from Question 1, filter the rows where the 'Price' is greater than 130."
   ]
  },
  {
   "cell_type": "code",
   "execution_count": null,
   "metadata": {},
   "outputs": [
    {
     "name": "stdout",
     "output_type": "stream",
     "text": [
      "  Product  Price  Quantity\n",
      "0       A    100        10\n",
      "1       B    150        15\n",
      "2       C    200         8\n",
      "3       D    130        12\n",
      "\n",
      "  Product  Price  Quantity\n",
      "1       B    150        15\n",
      "2       C    200         8\n"
     ]
    }
   ],
   "source": [
    "import pandas as pa\n",
    "data = {\n",
    "    'Product': ['A' , 'B' , 'C' , 'D'] , \n",
    "    'Price': [100, 150, 200, 130],\n",
    "    'Quantity':[10, 15, 8, 12]\n",
    "}\n",
    "df = pa.DataFrame(data)\n",
    "print(df)\n",
    "print() #use for this print for space \n",
    "filtered_df = df[df['Price'] > 130] #use for filtering the price \n",
    "print(filtered_df)"
   ]
  },
  {
   "cell_type": "markdown",
   "metadata": {},
   "source": [
    "                                                         ##MEDIUM "
   ]
  },
  {
   "cell_type": "markdown",
   "metadata": {},
   "source": [
    "##OUESTION 1: Sorting Data:\n",
    "\n",
    "#Sort the DataFrame from Question 1 by the 'Price' column in descending order.\n",
    "\n",
    "##QUESTION2: Aggregating Data:\n",
    "\n",
    "#Using the DataFrame from Question 1, calculate the total 'Quantity' and the average 'Price'.\n",
    "\n",
    "##QUESTION3: Adding a New Column:\n",
    "\n",
    "#Add a new column called 'TotalValue' to the DataFrame from Question 1, where each value is the product of 'Price' and 'Quantity'.\n",
    "\n",
    "##QUESTION4: Group By and Aggregate:\n",
    "\n",
    "##QUESTION5: Create a new DataFrame with the following data:\n",
    "\n",
    "'Category': ['Electronics', 'Furniture', 'Electronics', 'Furniture']\n",
    "'Sales': [2000, 3000, 4000, 2500]\n",
    "'Profit': [200, 300, 400, 250] Group the DataFrame by 'Category' and calculate the total 'Sales' and average 'Profit' for each category."
   ]
  },
  {
   "cell_type": "code",
   "execution_count": null,
   "metadata": {},
   "outputs": [
    {
     "name": "stdout",
     "output_type": "stream",
     "text": [
      "  Product  Price  Quantity\n",
      "0       A    100        10\n",
      "1       B    150        15\n",
      "2       C    200         8\n",
      "3       D    130        12\n",
      "filtering the price size \n",
      "  Product  Price  Quantity\n",
      "1       B    150        15\n",
      "2       C    200         8\n",
      "\n",
      "sort the price in scending order\n",
      "  Product  Price  Quantity\n",
      "2       C    200         8\n",
      "1       B    150        15\n",
      "3       D    130        12\n",
      "0       A    100        10\n"
     ]
    }
   ],
   "source": [
    "##OUESTION1 : sort the dataframe \n",
    "import pandas as pa\n",
    "data = {\n",
    "    'Product': ['A' , 'B' , 'C' , 'D'] , \n",
    "    'Price': [100, 150, 200, 130],\n",
    "    'Quantity':[10, 15, 8, 12]\n",
    "}\n",
    "df = pa.DataFrame(data)\n",
    "print(df)\n",
    "print(\"filtering the price size \") #use for this print for space \n",
    "filtered_df = df[df['Price'] > 130] #use for filtering the price \n",
    "print(filtered_df)\n",
    "print()\n",
    "print(\"sort the price in scending order\")\n",
    "Sort_df = df.sort_values(by='Price',ascending=False)\n",
    "print(Sort_df)"
   ]
  },
  {
   "cell_type": "code",
   "execution_count": 29,
   "metadata": {},
   "outputs": [
    {
     "name": "stdout",
     "output_type": "stream",
     "text": [
      "  Product  Price  Quantity\n",
      "0       A    100        10\n",
      "1       B    150        15\n",
      "2       C    200         8\n",
      "3       D    130        12\n",
      "\n",
      "filtering the price size \n",
      "  Product  Price  Quantity\n",
      "1       B    150        15\n",
      "2       C    200         8\n",
      "\n",
      "sort the price in scending order\n",
      "  Product  Price  Quantity\n",
      "2       C    200         8\n",
      "1       B    150        15\n",
      "3       D    130        12\n",
      "0       A    100        10\n",
      "  Product  Price  Quantity\n",
      "0       A    100        10\n",
      "1       B    150        15\n",
      "2       C    200         8\n",
      "3       D    130        12\n",
      "\n",
      "Quantity: 45\n",
      "Pice: 145.0\n"
     ]
    }
   ],
   "source": [
    "##QUESTION 2: TOTAL QUANTITY AND AVERAGE CALCULATE \n",
    "import pandas as pa\n",
    "data = {\n",
    "    'Product': ['A' , 'B' , 'C' , 'D'] , \n",
    "    'Price': [100, 150, 200, 130],\n",
    "    'Quantity':[10, 15, 8, 12]\n",
    "}\n",
    "df = pa.DataFrame(data)\n",
    "print(df)\n",
    "print()\n",
    "print(\"filtering the price size \") #use for this print for space \n",
    "filtered_df = df[df['Price'] > 130] #use for filtering the price \n",
    "print(filtered_df)\n",
    "print()\n",
    "print(\"sort the price in scending order\")\n",
    "Sort_df = df.sort_values(by='Price',ascending=False)\n",
    "print(Sort_df)\n",
    "print(df)\n",
    "print()\n",
    "total_quantity = df['Quantity'].sum()\n",
    "average_price = df['Price'].mean()\n",
    "print(f\"Quantity: {total_quantity}\")\n",
    "print(f\"Pice: {average_price}\")"
   ]
  },
  {
   "cell_type": "code",
   "execution_count": 26,
   "metadata": {},
   "outputs": [
    {
     "name": "stdout",
     "output_type": "stream",
     "text": [
      "  Product  Price  Quantity  total_value\n",
      "0       A    100        10         1000\n",
      "1       B    150        15         2250\n",
      "2       C    200         8         1600\n",
      "3       D    130        12         1560\n"
     ]
    }
   ],
   "source": [
    "##QUESTION3 TO ADD THE TOTAL_VALUE COLUMN\n",
    "df['total_value'] = df['Price'] * df['Quantity']\n",
    "print(df)"
   ]
  },
  {
   "cell_type": "code",
   "execution_count": 30,
   "metadata": {},
   "outputs": [
    {
     "name": "stdout",
     "output_type": "stream",
     "text": [
      "             Sales  Profit\n",
      "Category                  \n",
      "Electronics   6000   300.0\n",
      "Furniture     5500   275.0\n"
     ]
    }
   ],
   "source": [
    "##QUESTION 4: GROUPBY AND AGGREGATE\n",
    "data_group = {\n",
    "    'Category': ['Electronics' , 'Furniture' , 'Electronics' , 'Furniture'],\n",
    "    'Sales': [2000,3000,4000,2500],\n",
    "    'Profit':[200,300,400,250]\n",
    "}\n",
    "df_group = pa.DataFrame(data_group)\n",
    "grouped_df = df_group.groupby('Category').agg ({'Sales' : 'sum', 'Profit':'mean'})\n",
    "print(grouped_df)"
   ]
  },
  {
   "cell_type": "markdown",
   "metadata": {},
   "source": [
    "                                                      ##HARD QUESTIONS  "
   ]
  },
  {
   "cell_type": "markdown",
   "metadata": {},
   "source": [
    "##QUESTION 1: Merging DataFrame:\n",
    "\n",
    "Create another DataFrame:\n",
    "\n",
    "'Product': ['A', 'B', 'E', 'F']\n",
    "'Supplier': ['X', 'Y', 'Z', 'X'] Merge this DataFrame with the original DataFrame from Question 1 on the 'Product' column using an outer join.\n",
    "\n",
    "##QUESTION 2: Handling Missing Data:\n",
    "In the merged DataFrame from Question 8, replace any missing values in the 'Supplier' column with 'Unknown'. Drop any rows where 'Price' or 'Quantity' is missing."
   ]
  },
  {
   "cell_type": "code",
   "execution_count": null,
   "metadata": {},
   "outputs": [
    {
     "name": "stdout",
     "output_type": "stream",
     "text": [
      "  Product  Price  Quantity Support\n",
      "0       A  100.0      10.0       X\n",
      "1       B  150.0      15.0       Y\n",
      "2       C  200.0       8.0     NaN\n",
      "3       D  130.0      12.0     NaN\n",
      "4       E    NaN       NaN       Z\n",
      "5       F    NaN       NaN       X\n"
     ]
    }
   ],
   "source": [
    "##QUESTION 1 MERGED THE DATA \n",
    "import pandas as pa\n",
    "data = {\n",
    "    'Product': ['A' , 'B' , 'C' , 'D'] , \n",
    "    'Price': [100, 150, 200, 130],\n",
    "    'Quantity':[10, 15, 8, 12]\n",
    "}\n",
    "df1 = pa.DataFrame(data)\n",
    "data_new = {\n",
    "    'Product': ['A','B','E','F'],\n",
    "    'Support': ['X','Y','Z','X']\n",
    "}\n",
    "df2 = pa.DataFrame(data_new)\n",
    "merged_df = pa.merge(df1 , df2, on='Product',how='outer')\n",
    "print(merged_df)\n",
    "\n"
   ]
  },
  {
   "cell_type": "code",
   "execution_count": null,
   "metadata": {},
   "outputs": [
    {
     "name": "stdout",
     "output_type": "stream",
     "text": [
      "  Product  Price  Quantity Support\n",
      "0       A  100.0      10.0       X\n",
      "1       B  150.0      15.0       Y\n",
      "2       C  200.0       8.0     NaN\n",
      "3       D  130.0      12.0     NaN\n",
      "4       E    NaN       NaN       Z\n",
      "5       F    NaN       NaN       X\n",
      "  Product  Price  Quantity  Support\n",
      "0       A  100.0      10.0        X\n",
      "1       B  150.0      15.0        Y\n",
      "2       C  200.0       8.0  Unknown\n",
      "3       D  130.0      12.0  Unknown\n"
     ]
    }
   ],
   "source": [
    "##QUESTION 2: REPLACE THE NAME AND DROP THE NAME \n",
    "import pandas as pa\n",
    "data = {\n",
    "    'Product': ['A' , 'B' , 'C' , 'D'] , \n",
    "    'Price': [100, 150, 200, 130],\n",
    "    'Quantity':[10, 15, 8, 12]\n",
    "}\n",
    "df1 = pa.DataFrame(data)\n",
    "data_new = {\n",
    "    'Product': ['A','B','E','F'],\n",
    "    'Support': ['X','Y','Z','X']\n",
    "}\n",
    "df2 = pa.DataFrame(data_new)\n",
    "merged_df = pa.merge(df1 , df2, on='Product',how='outer')\n",
    "print(merged_df)\n",
    "merged_df['Support'] = merged_df['Support'].fillna('Unknown')\n",
    "cleaned_df = merged_df.dropna(subset=['Price','Quantity'])\n",
    "print(cleaned_df)"
   ]
  }
 ],
 "metadata": {
  "kernelspec": {
   "display_name": "Python 3",
   "language": "python",
   "name": "python3"
  },
  "language_info": {
   "codemirror_mode": {
    "name": "ipython",
    "version": 3
   },
   "file_extension": ".py",
   "mimetype": "text/x-python",
   "name": "python",
   "nbconvert_exporter": "python",
   "pygments_lexer": "ipython3",
   "version": "3.12.5"
  }
 },
 "nbformat": 4,
 "nbformat_minor": 2
}
