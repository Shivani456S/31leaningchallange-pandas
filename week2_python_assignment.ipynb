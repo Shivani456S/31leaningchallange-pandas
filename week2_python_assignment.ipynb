{
 "cells": [
  {
   "cell_type": "markdown",
   "metadata": {},
   "source": [
    "##QUESTION 1: CUSTOMER ORDER ANALYSIS"
   ]
  },
  {
   "cell_type": "code",
   "execution_count": 2,
   "metadata": {},
   "outputs": [],
   "source": [
    "import pandas as pa\n",
    "import numpy as np"
   ]
  },
  {
   "cell_type": "code",
   "execution_count": 3,
   "metadata": {},
   "outputs": [
    {
     "name": "stdout",
     "output_type": "stream",
     "text": [
      "18\n"
     ]
    }
   ],
   "source": [
    "orders = [12, 17, 20, 25, 30, 18, 23, 12, 15, 19, 17, 21, 25, 27, 30, 22, 28, 33, 24, 26, 28, 25, 24, 29, 30, 27, 26, 22, 23, 29]\n",
    "order_arr = np.array(orders)\n",
    "highest_order_day = np.argmax(order_arr) + 1\n",
    "print(highest_order_day)\n"
   ]
  },
  {
   "cell_type": "markdown",
   "metadata": {},
   "source": [
    "##QUESTION 2: Sales Data Reshaping: You are given sales data of a product for 20 days in a 1D array. Reshape this array into a 4x5 matrix to better understand weekly sales trends"
   ]
  },
  {
   "cell_type": "code",
   "execution_count": 5,
   "metadata": {},
   "outputs": [
    {
     "name": "stdout",
     "output_type": "stream",
     "text": [
      "[[ 150  200  250  300  350]\n",
      " [ 400  450  500  550  600]\n",
      " [ 650  700  750  800  850]\n",
      " [ 900  950 1000 1050 1100]]\n"
     ]
    }
   ],
   "source": [
    "sales = np.array([150, 200, 250, 300, 350, 400, 450, 500, 550, 600, 650, 700, 750, 800, 850, 900, 950, 1000, 1050, 1100])\n",
    "Matrix_Data = sales.reshape(4,5)\n",
    "print(Matrix_Data)"
   ]
  },
  {
   "cell_type": "markdown",
   "metadata": {},
   "source": [
    "##QUESTION 3: Temperature Data Transformation: A weather monitoring system records temperatures every hour for a week. You are given a 1D array of these temperatures. Transform this data into a 2D array where each row represents a day."
   ]
  },
  {
   "cell_type": "code",
   "execution_count": 6,
   "metadata": {},
   "outputs": [
    {
     "name": "stdout",
     "output_type": "stream",
     "text": [
      "[[31 21 23 25 28 28 21 30 32 23 33 32 28 25 22 26 20 23 20 28 34 22 24 31]\n",
      " [32 22 25 26 33 24 30 26 24 31 28 30 34 25 22 21 29 34 20 34 25 29 28 30]\n",
      " [29 20 30 21 23 22 25 32 26 21 23 29 29 32 20 23 30 34 30 32 21 25 27 23]\n",
      " [21 24 32 27 33 29 32 28 31 25 31 24 34 29 31 34 24 29 21 20 25 34 22 28]\n",
      " [23 23 22 32 27 31 29 23 30 23 23 33 22 32 22 34 30 30 25 34 30 20 28 32]\n",
      " [29 30 31 28 31 29 23 25 20 23 21 21 27 32 21 32 21 30 27 21 21 27 28 27]\n",
      " [33 33 31 32 29 34 23 32 25 31 33 32 30 23 28 24 33 34 24 23 31 27 32 27]]\n"
     ]
    }
   ],
   "source": [
    "temperatures = np.random.randint(20, 35, 168)\n",
    "Daily_Temp = temperatures.reshape(7,24)\n",
    "print(Daily_Temp)\n"
   ]
  },
  {
   "cell_type": "markdown",
   "metadata": {},
   "source": [
    "##QUESTION4: Product Inventory Management: A warehouse manager needs to update the inventory list where products are represented as a NumPy array. Resize the current product list to fit a new storage layout with 6 rows and 4 columns."
   ]
  },
  {
   "cell_type": "code",
   "execution_count": 7,
   "metadata": {},
   "outputs": [
    {
     "name": "stdout",
     "output_type": "stream",
     "text": [
      "[[57  4 12 51]\n",
      " [49 77  1 70]\n",
      " [ 4 82 25 31]\n",
      " [64 80 99 54]\n",
      " [35 67 68 31]\n",
      " [12 50 28 65]]\n"
     ]
    }
   ],
   "source": [
    "inventory = np.random.randint(1, 100, 24)\n",
    "Data_Matrix = inventory.reshape(6,4)\n",
    "print(Data_Matrix)\n"
   ]
  },
  {
   "cell_type": "markdown",
   "metadata": {},
   "source": [
    "##QUESTION 5: Marketing Campaign Analysis: You are given the responses to a marketing campaign stored in a 2D array where each row represents different regions. Each region has recorded the number of positive responses. Calculate the total number of positive responses across all regions."
   ]
  },
  {
   "cell_type": "code",
   "execution_count": 8,
   "metadata": {},
   "outputs": [
    {
     "name": "stdout",
     "output_type": "stream",
     "text": [
      "1592\n"
     ]
    }
   ],
   "source": [
    "responses = np.random.randint(50, 200, (5, 3))\n",
    "Total_Data = np.sum(responses)\n",
    "print(Total_Data)\n"
   ]
  },
  {
   "cell_type": "markdown",
   "metadata": {},
   "source": [
    "##QUESTION 6: Daily Step Count: You have recorded your daily step count for a month. Use NumPy to find the total steps and the average steps per day"
   ]
  },
  {
   "cell_type": "code",
   "execution_count": 9,
   "metadata": {},
   "outputs": [
    {
     "name": "stdout",
     "output_type": "stream",
     "text": [
      "273741\n",
      "9124.7\n"
     ]
    }
   ],
   "source": [
    "steps = np.random.randint(3000, 15000, 30)\n",
    "steps_data = np.sum(steps)\n",
    "steps_avrg_data = np.mean(steps)\n",
    "print(steps_data)\n",
    "print(steps_avrg_data)"
   ]
  },
  {
   "cell_type": "markdown",
   "metadata": {},
   "source": [
    "##QUESTION 7 : Monthly Rainfall: Calculate the average monthly rainfall from the given daily rainfall data of a month."
   ]
  },
  {
   "cell_type": "code",
   "execution_count": 10,
   "metadata": {},
   "outputs": [
    {
     "name": "stdout",
     "output_type": "stream",
     "text": [
      "9.266666666666667\n"
     ]
    }
   ],
   "source": [
    "rainfall = np.random.randint(0, 20, 30)\n",
    "ranifall_avrg = np.mean(rainfall)\n",
    "print(ranifall_avrg)"
   ]
  },
  {
   "cell_type": "markdown",
   "metadata": {},
   "source": [
    "##QUESTION 8: Weekly Temperature Analysis: Find the maximum and minimum temperatures of each week from the given daily temperature data of a month."
   ]
  },
  {
   "cell_type": "code",
   "execution_count": 11,
   "metadata": {},
   "outputs": [
    {
     "name": "stdout",
     "output_type": "stream",
     "text": [
      "[[35 31 30 29 20 20 34]\n",
      " [36 38 21 36 33 27 29]\n",
      " [22 37 20 26 32 29 28]\n",
      " [28 27 24 30 21 26 26]]\n",
      "[35 38 37 30]\n",
      "[20 21 20 21]\n"
     ]
    }
   ],
   "source": [
    "temperatures = np.random.randint(20, 40, 28)\n",
    "Week_Temp = temperatures.reshape(4,7)\n",
    "max_Temp = np.max(Week_Temp , axis=1)\n",
    "min_Temp = np.min(Week_Temp , axis =1)\n",
    "print(Week_Temp)\n",
    "print(max_Temp)\n",
    "print(min_Temp)"
   ]
  },
  {
   "cell_type": "markdown",
   "metadata": {},
   "source": [
    "##QUESTION 9: Product Prices: Normalize the prices of products to a scale of 0 to 1"
   ]
  },
  {
   "cell_type": "code",
   "execution_count": 12,
   "metadata": {},
   "outputs": [
    {
     "name": "stdout",
     "output_type": "stream",
     "text": [
      "[0.59657702 0.         0.09168704 0.94987775 0.29339853 0.63691932\n",
      " 0.75672372 0.07090465 0.82762836 1.        ]\n"
     ]
    }
   ],
   "source": [
    "prices = np.random.randint(100, 1000, 10)\n",
    "Price_Data = (prices - np.min(prices)) / (np.max(prices) - np.min(prices))\n",
    "print(Price_Data)\n",
    "\n"
   ]
  },
  {
   "cell_type": "markdown",
   "metadata": {},
   "source": [
    "##QUESTION 10: Exam Scores: Calculate the mean and standard deviation of scores from a class exam."
   ]
  },
  {
   "cell_type": "code",
   "execution_count": 13,
   "metadata": {},
   "outputs": [
    {
     "name": "stdout",
     "output_type": "stream",
     "text": [
      "74.33333333333333\n",
      "13.00598152987907\n"
     ]
    }
   ],
   "source": [
    "scores = np.random.randint(50, 100, 30)\n",
    "mean = np.mean(scores)\n",
    "Std_dev = np.std(scores)\n",
    "print(mean)\n",
    "print(Std_dev)"
   ]
  },
  {
   "cell_type": "markdown",
   "metadata": {},
   "source": [
    "##QUESTION 11: Website Traffic Analysis: Analyze the hourly website traffic data for a week. You are provided a 1D array with the number of visitors per hour. Reshape this data into a 2D array where each row represents a day, and each column represents an hour."
   ]
  },
  {
   "cell_type": "code",
   "execution_count": null,
   "metadata": {},
   "outputs": [
    {
     "name": "stdout",
     "output_type": "stream",
     "text": [
      "[[392 432 323 496 142 302 266 472 322 181 292 457 441 342 368 176 459 197\n",
      "  242 465 461 257 223 106]\n",
      " [498 196 356 273 478 291 151 494 450 305 405 224 479 149 236 120 256 430\n",
      "  117 440 181 365 337 350]\n",
      " [194 116 381 368 431 215 427 438 372 262 478 416 254 309 446 409 199 232\n",
      "  429 136 398 117 128 182]\n",
      " [156 169 432 293 485 488 327 193 418 476 468 136 275 349 297 241 439 217\n",
      "  286 296 404 336 137 287]\n",
      " [174 469 400 277 446 188 300 450 456 124 187 185 328 477 378 441 429 258\n",
      "  476 365 336 431 456 309]\n",
      " [447 417 334 445 378 355 198 368 116 263 498 161 310 483 135 487 324 245\n",
      "  467 359 239 285 383 312]\n",
      " [371 259 381 352 184 421 459 230 460 395 467 224 264 345 282 236 127 191\n",
      "  327 315 307 294 440 437]]\n"
     ]
    }
   ],
   "source": [
    "traffic_data = np.random.randint(100, 500, 168) \n",
    "Data = traffic_data.reshape(7,24)\n",
    "print(Data)"
   ]
  },
  {
   "cell_type": "markdown",
   "metadata": {},
   "source": [
    "##QUESTION 12: Financial Data Normalization: A financial analyst wants to normalize the daily stock prices of a company recorded over a month. You are given a 1D array of stock prices. Normalize these prices using the formula: ((price - min) / (max - min))."
   ]
  },
  {
   "cell_type": "code",
   "execution_count": null,
   "metadata": {},
   "outputs": [
    {
     "name": "stdout",
     "output_type": "stream",
     "text": [
      "[0.40425532 0.68085106 0.87234043 0.93617021 0.19148936 0.61702128\n",
      " 0.95744681 0.42553191 0.0106383  0.21276596 0.         0.90425532\n",
      " 0.74468085 0.12765957 0.62765957 0.45744681 0.54255319 1.\n",
      " 0.71276596 0.06382979 0.27659574 0.76595745 0.         0.75531915\n",
      " 0.87234043 0.76595745 0.74468085 0.94680851 0.44680851 0.75531915]\n"
     ]
    }
   ],
   "source": [
    "stock_prices = np.random.randint(100, 200, 30)  \n",
    "stock_Price_Data = (stock_prices - np.min(stock_prices)) / (np.max(stock_prices) - np.min(stock_prices))\n",
    "print(stock_Price_Data)"
   ]
  },
  {
   "cell_type": "markdown",
   "metadata": {},
   "source": [
    "##QUESTION 13: Customer Satisfaction Survey: Transform the results of a customer satisfaction survey stored in a 1D array into a 2D array, where each row represents a different product, and each column represents the responses for that product."
   ]
  },
  {
   "cell_type": "code",
   "execution_count": 18,
   "metadata": {},
   "outputs": [
    {
     "name": "stdout",
     "output_type": "stream",
     "text": [
      "[[5 3 4 1 3]\n",
      " [1 5 2 3 1]\n",
      " [5 5 5 4 3]\n",
      " [5 2 2 5 5]\n",
      " [1 1 3 5 2]\n",
      " [3 1 5 2 4]\n",
      " [1 1 3 5 1]\n",
      " [2 4 1 1 3]\n",
      " [5 1 2 1 1]\n",
      " [3 1 1 2 4]]\n"
     ]
    }
   ],
   "source": [
    "survey_results = np.random.randint(1, 6, 50)\n",
    "Data = survey_results.reshape(10,5)\n",
    "print(Data)\n"
   ]
  },
  {
   "cell_type": "markdown",
   "metadata": {},
   "source": [
    "##QUESTION 14: Employee Performance Tracking: An HR manager wants to analyze the quarterly performance scores of employees. You are given a 1D array representing the scores. Reshape this array into a 2D array where each row represents an employee, and each column represents their score in a quarter."
   ]
  },
  {
   "cell_type": "code",
   "execution_count": 19,
   "metadata": {},
   "outputs": [
    {
     "name": "stdout",
     "output_type": "stream",
     "text": [
      "[[3 2 1 5]\n",
      " [5 2 9 1]\n",
      " [3 3 6 5]\n",
      " [8 9 5 2]\n",
      " [5 8 9 4]\n",
      " [9 9 9 9]\n",
      " [8 6 9 7]\n",
      " [9 6 7 2]\n",
      " [5 9 3 7]\n",
      " [7 4 8 5]]\n"
     ]
    }
   ],
   "source": [
    "performance_scores = np.random.randint(1, 10, 40) \n",
    "Data = performance_scores.reshape(10,4)\n",
    "print(Data)"
   ]
  },
  {
   "cell_type": "markdown",
   "metadata": {},
   "source": [
    "##QUESTION 15: Energy Consumption Analysis: Analyze the hourly energy consumption data for a week. You are given a 1D array representing the energy consumption per hour. Reshape this data into a 2D array where each row represents a day, and each column represents an hour."
   ]
  },
  {
   "cell_type": "code",
   "execution_count": 20,
   "metadata": {},
   "outputs": [
    {
     "name": "stdout",
     "output_type": "stream",
     "text": [
      "[[270 756 730 597 412 685 744 501 509 607 658 719 443 485 296 231 365 702\n",
      "  289 608 699 528 684 438]\n",
      " [365 427 690 289 252 682 343 405 412 678 526 715 368 315 440 408 755 587\n",
      "  477 707 218 757 401 364]\n",
      " [202 635 399 705 272 590 431 204 232 375 274 590 484 771 667 503 332 255\n",
      "  668 438 521 229 636 416]\n",
      " [241 712 485 280 657 405 434 205 686 294 219 646 360 291 515 202 591 623\n",
      "  232 307 605 722 248 441]\n",
      " [477 576 732 776 770 408 665 386 412 229 316 786 640 437 313 603 298 675\n",
      "  564 567 383 299 386 395]\n",
      " [314 742 373 407 222 661 477 670 677 456 619 331 707 450 566 359 206 395\n",
      "  654 421 219 457 336 402]\n",
      " [779 727 751 574 414 229 784 331 360 243 459 652 200 247 512 554 273 575\n",
      "  328 641 292 712 353 489]]\n"
     ]
    }
   ],
   "source": [
    "energy_consumption = np.random.randint(200, 800, 168)\n",
    "Data = energy_consumption.reshape(7,24)\n",
    "print(Data)\n"
   ]
  },
  {
   "cell_type": "markdown",
   "metadata": {},
   "source": [
    "##QUESTION 16 : Product Sales Forecasting: A retail store wants to forecast the sales of their products. You are given a 2D array where each row represents a different product and each column represents the sales figures for different months. Calculate the average sales for each product."
   ]
  },
  {
   "cell_type": "code",
   "execution_count": 21,
   "metadata": {},
   "outputs": [
    {
     "name": "stdout",
     "output_type": "stream",
     "text": [
      "556.3833333333333\n"
     ]
    }
   ],
   "source": [
    "sales_forecast = np.random.randint(100, 1000, (5, 12)) \n",
    "DATA= np.mean(sales_forecast)\n",
    "print(DATA)\n"
   ]
  },
  {
   "cell_type": "markdown",
   "metadata": {},
   "source": [
    "##QUESTION 17: E-commerce Data Analysis: An e-commerce company wants to analyze the sales data of various products. You are given a 3D array where each matrix represents a different product category, each row within a matrix represents a different product, and each column represents monthly sales data. Calculate the total sales for each product category."
   ]
  },
  {
   "cell_type": "code",
   "execution_count": 22,
   "metadata": {},
   "outputs": [
    {
     "name": "stdout",
     "output_type": "stream",
     "text": [
      "[322218 339257 342473]\n"
     ]
    }
   ],
   "source": [
    "sales_data = np.random.randint(1000, 10000, (3, 5, 12))\n",
    "data = np.sum(sales_data , axis=(1,2))\n",
    "print(data)\n"
   ]
  },
  {
   "cell_type": "markdown",
   "metadata": {},
   "source": [
    "##Question 18: Climate Data Analysis: A climate scientist is studying temperature variations across different regions. You are given a 3D array where each matrix represents a different region, each row represents daily temperature readings, and each column represents different months. Calculate the average temperature for each region."
   ]
  },
  {
   "cell_type": "code",
   "execution_count": 23,
   "metadata": {},
   "outputs": [
    {
     "name": "stdout",
     "output_type": "stream",
     "text": [
      "[13.11388889 12.36111111 12.25       11.98888889]\n"
     ]
    }
   ],
   "source": [
    "climate_data = np.random.randint(-10, 35, (4, 30, 12))  \n",
    "data = np.mean(climate_data,axis=(1,2))\n",
    "print(data)\n"
   ]
  },
  {
   "cell_type": "markdown",
   "metadata": {},
   "source": [
    "##QUESTION 19: Market Basket Analysis: A supermarket wants to analyze the basket data of their customers. You are given a 3D array where each matrix represents a different store, each row represents different customers, and each column represents the items bought. Calculate the total number of items sold in each store."
   ]
  },
  {
   "cell_type": "code",
   "execution_count": 24,
   "metadata": {},
   "outputs": [
    {
     "name": "stdout",
     "output_type": "stream",
     "text": [
      "[496 506 485]\n"
     ]
    }
   ],
   "source": [
    "basket_data = np.random.randint(1, 20, (3, 10, 5))  \n",
    "data = np.sum(basket_data , axis=(1,2))\n",
    "print(data)\n"
   ]
  },
  {
   "cell_type": "markdown",
   "metadata": {},
   "source": [
    "##QUESTION 20: Project Management: A project manager needs to track the progress of multiple projects. You are given a 3D array where each matrix represents a different project, each row represents different tasks, and each column represents the number of hours worked by different employees. Calculate the total hours worked for each project."
   ]
  },
  {
   "cell_type": "code",
   "execution_count": 26,
   "metadata": {},
   "outputs": [
    {
     "name": "stdout",
     "output_type": "stream",
     "text": [
      "[653 533 493]\n"
     ]
    }
   ],
   "source": [
    "project_hours = np.random.randint(10, 50, (3, 5, 4)) \n",
    "DATA = np.sum(project_hours , axis=(1,2))\n",
    "print(DATA)\n"
   ]
  }
 ],
 "metadata": {
  "kernelspec": {
   "display_name": "Python 3",
   "language": "python",
   "name": "python3"
  },
  "language_info": {
   "codemirror_mode": {
    "name": "ipython",
    "version": 3
   },
   "file_extension": ".py",
   "mimetype": "text/x-python",
   "name": "python",
   "nbconvert_exporter": "python",
   "pygments_lexer": "ipython3",
   "version": "3.12.5"
  }
 },
 "nbformat": 4,
 "nbformat_minor": 2
}
