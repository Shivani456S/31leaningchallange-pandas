{
 "cells": [
  {
   "cell_type": "markdown",
   "metadata": {},
   "source": [
    "OUESTION 1 : ADVANTAGE of using python for data analysis;\n",
    "1) easy to use syntax is simple\n",
    "2) libraries like pandas , numpy , matplotlip , seaborn etc\n",
    "3) community support for face any issue instant solve \n",
    "4) Integrating \n",
    "5) scalability"
   ]
  },
  {
   "cell_type": "markdown",
   "metadata": {},
   "source": [
    "QUESTION 2:Explain the role of numpy, pandas in python data analysis\n",
    "pandas use for analysize the data , cleaning and manipulating data .\n",
    "numpy working on arrays and this is a numerical python"
   ]
  },
  {
   "cell_type": "code",
   "execution_count": null,
   "metadata": {},
   "outputs": [],
   "source": [
    "import pandas as pa\n",
    "mydatasets={\n",
    "    'education':[\"10th\", \"diploma\" ,\"btech\"],\n",
    "    'passing year' :[2018,2021,2024]\n",
    "}\n",
    "myvar=pa.DataFrame(mydatasets)\n",
    "print(myvar)"
   ]
  },
  {
   "cell_type": "code",
   "execution_count": null,
   "metadata": {},
   "outputs": [],
   "source": [
    "import numpy as np\n",
    "arr = np.array([2018,2021,2024,2021])\n",
    "print(arr)\n",
    "print(type(arr))\n",
    "print(np.sum(arr))\n",
    "print(np.mean(arr))\n",
    "print(np.median(arr))"
   ]
  },
  {
   "cell_type": "markdown",
   "metadata": {},
   "source": [
    "QUESTION 3: Difference between list and numpy array?\n"
   ]
  },
  {
   "cell_type": "code",
   "execution_count": null,
   "metadata": {},
   "outputs": [],
   "source": [
    "#LIST \n",
    "py_list=[1,2,3,4,5,6,6,8,9,10]\n",
    "print(py_list)\n",
    "print(sum(py_list))"
   ]
  },
  {
   "cell_type": "code",
   "execution_count": null,
   "metadata": {},
   "outputs": [],
   "source": [
    "#NUMPY\n",
    "import numpy as np\n",
    "np_arr = np.array([1,2,3,4,5,6,7,8,9,10])\n",
    "print(np_arr)\n",
    "print(np.sum(np_arr))"
   ]
  },
  {
   "cell_type": "markdown",
   "metadata": {},
   "source": [
    "QUESTION 4: Difference between dataframe and dictionary"
   ]
  },
  {
   "cell_type": "code",
   "execution_count": null,
   "metadata": {},
   "outputs": [],
   "source": [
    "#Dictionary\n",
    "data_dic = {'Name':[\"shivi\",\"shivuu\",\"shivani\",], \n",
    "            'Age':[18,20,22] }\n",
    "print(data_dic)"
   ]
  },
  {
   "cell_type": "code",
   "execution_count": null,
   "metadata": {},
   "outputs": [],
   "source": [
    "#DATAFRAME\n",
    "import pandas as pa\n",
    "data_dic = {'Name':[\"shivi\",\"shivuu\",\"shivani\",], \n",
    "            'Age':[18,20,22] }\n",
    "df=pa.DataFrame(data_dic)\n",
    "print(df)\n",
    "print(df[df['Age'] > 10])\n",
    "print(df[df['Age'] < 18])\n",
    "\n"
   ]
  },
  {
   "cell_type": "markdown",
   "metadata": {},
   "source": [
    "Question 5: How to import the datasets and explore the data "
   ]
  },
  {
   "cell_type": "code",
   "execution_count": null,
   "metadata": {},
   "outputs": [],
   "source": [
    "import pandas as pa\n",
    "import numpy as np\n",
    "df=pa.read_csv(\"filepath\")\n",
    "#print the whole data\n",
    "df.head()\n",
    "#data information\n",
    "df.info()\n",
    "#check the null value\n",
    "df.isnull().sum()"
   ]
  },
  {
   "cell_type": "markdown",
   "metadata": {},
   "source": [
    "QUESTION 7: How to use the group by function in pandas "
   ]
  },
  {
   "cell_type": "code",
   "execution_count": null,
   "metadata": {},
   "outputs": [],
   "source": [
    "import pandas as pa \n",
    "data = {\n",
    "    'Company':['microsoft', 'Amazon','Cognizant','startups','microsoft','Amazon'],\n",
    "    'sales': [200,250,150,100,120,220]}\n",
    "df = pa.DataFrame(data)\n",
    "grouped = df.groupby('Company')['sales'].sum()\n",
    "grouped = df.groupby('Company')['sales'].count()\n",
    "print(\"data of comapny sales\\n\",grouped)"
   ]
  },
  {
   "cell_type": "markdown",
   "metadata": {},
   "source": [
    "QUESTION 8: what is the  importance of data cleaning in data analysis"
   ]
  },
  {
   "cell_type": "code",
   "execution_count": null,
   "metadata": {},
   "outputs": [],
   "source": [
    "import pandas as pd\n",
    "\n",
    "data = {\n",
    "    'Name': ['shivi', 'shivuu', 'shivi', 'shivani', None],\n",
    "    'Age': [19, 20, 23, None, 21],\n",
    "    'Salary': [50000, None, 50000, 60000, 45000],\n",
    "    'Joining Date': ['2023-01-15', '2023-02-01', '2023-01-15', None, '2023-03-05']\n",
    "}\n",
    "df = pd.DataFrame(data)\n",
    "# Handle missing values\n",
    "df['Age'] = df['Age'].fillna(df['Age'].mean())\n",
    "df['Salary'] = df['Salary'].fillna(df['Salary'].mean())\n",
    "df['Joining Date'] = df['Joining Date'].fillna('2023-01-01')\n",
    "#Remove duplicates\n",
    "df = df.drop_duplicates()\n",
    "#Fix date format\n",
    "df['Joining Date'] = pd.to_datetime(df['Joining Date'])\n",
    "\n",
    "# Validate the data\n",
    "print(\"Cleaned Dataset:\\n\", df)\n"
   ]
  }
 ],
 "metadata": {
  "kernelspec": {
   "display_name": "Python 3",
   "language": "python",
   "name": "python3"
  },
  "language_info": {
   "codemirror_mode": {
    "name": "ipython",
    "version": 3
   },
   "file_extension": ".py",
   "mimetype": "text/x-python",
   "name": "python",
   "nbconvert_exporter": "python",
   "pygments_lexer": "ipython3",
   "version": "3.12.5"
  }
 },
 "nbformat": 4,
 "nbformat_minor": 2
}
